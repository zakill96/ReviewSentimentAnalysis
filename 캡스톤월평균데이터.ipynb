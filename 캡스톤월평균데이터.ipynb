{
 "cells": [
  {
   "cell_type": "code",
   "execution_count": 1,
   "id": "6bc70094",
   "metadata": {},
   "outputs": [],
   "source": [
    "from datetime import datetime, date\n",
    "import pandas as pd\n",
    "from dateutil.relativedelta import relativedelta\n",
    "import numpy as np\n",
    "import statistics\n",
    "from calendar import monthrange\n",
    "import matplotlib.pyplot as plt "
   ]
  },
  {
   "cell_type": "code",
   "execution_count": 2,
   "id": "b1adf8ee",
   "metadata": {},
   "outputs": [
    {
     "name": "stdout",
     "output_type": "stream",
     "text": [
      "       Unnamed: 0           name                date  score  \\\n",
      "0               0     Iol Runner 2022-03-21 11:14:11      1   \n",
      "1               1  블랙큐브BlackCube 2022-03-21 10:51:32      1   \n",
      "2               2            김문기 2022-03-20 23:34:15      1   \n",
      "3               3       -에리 백현엑소 2022-03-20 20:37:54      1   \n",
      "4               4           옛날치킨 2022-03-20 19:40:58      1   \n",
      "...           ...            ...                 ...    ...   \n",
      "24989       24989     Google 사용자 2012-06-30 21:24:38      5   \n",
      "24990       24990     Google 사용자 2012-06-30 09:10:25      5   \n",
      "24991       24991     Google 사용자 2012-06-28 15:52:21      5   \n",
      "24992       24992     Google 사용자 2012-06-28 10:12:40      5   \n",
      "24993       24993     Google 사용자 2012-06-27 23:25:59      5   \n",
      "\n",
      "                                                 content  thumbsUp  \n",
      "0                      App update하는데 통장 비밀번호는 왜 물어보는건가요?         0  \n",
      "1                       휴대폰 인증을 할려고 문자를 보냈는데 왜 안되는거에요???         0  \n",
      "2      루팅된 단말기라고 접속 안 되는 현상 여전한데요...(픽셀4a) 몇시간도 아니고 일...         5  \n",
      "3                        진짜 별 1개도 아까울정도네요 자꾸 깔리지도 않고....         0  \n",
      "4                                      다른 은행 앱에비해 쓰기 불편함         0  \n",
      "...                                                  ...       ...  \n",
      "24989                                                  굿         1  \n",
      "24990                                        은행안가서 편하자나ㅋ         1  \n",
      "24991                                   Verry Goooooood!         1  \n",
      "24992                                         드디어 나왔네요!!         3  \n",
      "24993                           은행 앱 중에 신한은행 것이 제일 나은 듯함         4  \n",
      "\n",
      "[24994 rows x 6 columns]\n"
     ]
    }
   ],
   "source": [
    "load_filename = 'sh.xlsx'\n",
    "df = pd.read_excel(load_filename)\n",
    "print(df)"
   ]
  },
  {
   "cell_type": "code",
   "execution_count": 3,
   "id": "fb501095",
   "metadata": {},
   "outputs": [
    {
     "data": {
      "text/plain": [
       "24994"
      ]
     },
     "execution_count": 3,
     "metadata": {},
     "output_type": "execute_result"
    }
   ],
   "source": [
    "len(df.index)"
   ]
  },
  {
   "cell_type": "code",
   "execution_count": 4,
   "id": "b2ce5b3d",
   "metadata": {
    "scrolled": false
   },
   "outputs": [
    {
     "name": "stdout",
     "output_type": "stream",
     "text": [
      "2012-06-30\n"
     ]
    },
    {
     "data": {
      "text/html": [
       "<div>\n",
       "<style scoped>\n",
       "    .dataframe tbody tr th:only-of-type {\n",
       "        vertical-align: middle;\n",
       "    }\n",
       "\n",
       "    .dataframe tbody tr th {\n",
       "        vertical-align: top;\n",
       "    }\n",
       "\n",
       "    .dataframe thead th {\n",
       "        text-align: right;\n",
       "    }\n",
       "</style>\n",
       "<table border=\"1\" class=\"dataframe\">\n",
       "  <thead>\n",
       "    <tr style=\"text-align: right;\">\n",
       "      <th></th>\n",
       "      <th>mean</th>\n",
       "    </tr>\n",
       "  </thead>\n",
       "  <tbody>\n",
       "    <tr>\n",
       "      <th>2012-06</th>\n",
       "      <td>5.000000</td>\n",
       "    </tr>\n",
       "    <tr>\n",
       "      <th>2012-07</th>\n",
       "      <td>3.294118</td>\n",
       "    </tr>\n",
       "    <tr>\n",
       "      <th>2012-08</th>\n",
       "      <td>2.820000</td>\n",
       "    </tr>\n",
       "    <tr>\n",
       "      <th>2012-09</th>\n",
       "      <td>1.622857</td>\n",
       "    </tr>\n",
       "    <tr>\n",
       "      <th>2012-10</th>\n",
       "      <td>2.912000</td>\n",
       "    </tr>\n",
       "    <tr>\n",
       "      <th>...</th>\n",
       "      <td>...</td>\n",
       "    </tr>\n",
       "    <tr>\n",
       "      <th>2021-11</th>\n",
       "      <td>1.886010</td>\n",
       "    </tr>\n",
       "    <tr>\n",
       "      <th>2021-12</th>\n",
       "      <td>2.224747</td>\n",
       "    </tr>\n",
       "    <tr>\n",
       "      <th>2022-01</th>\n",
       "      <td>1.833333</td>\n",
       "    </tr>\n",
       "    <tr>\n",
       "      <th>2022-02</th>\n",
       "      <td>1.615556</td>\n",
       "    </tr>\n",
       "    <tr>\n",
       "      <th>2022-03</th>\n",
       "      <td>1.461009</td>\n",
       "    </tr>\n",
       "  </tbody>\n",
       "</table>\n",
       "<p>118 rows × 1 columns</p>\n",
       "</div>"
      ],
      "text/plain": [
       "             mean\n",
       "2012-06  5.000000\n",
       "2012-07  3.294118\n",
       "2012-08  2.820000\n",
       "2012-09  1.622857\n",
       "2012-10  2.912000\n",
       "...           ...\n",
       "2021-11  1.886010\n",
       "2021-12  2.224747\n",
       "2022-01  1.833333\n",
       "2022-02  1.615556\n",
       "2022-03  1.461009\n",
       "\n",
       "[118 rows x 1 columns]"
      ]
     },
     "execution_count": 4,
     "metadata": {},
     "output_type": "execute_result"
    }
   ],
   "source": [
    "mean_df_day = []\n",
    "mean_df_mean = []\n",
    "per = df.date[df.index[-1]]\n",
    "month = relativedelta(months=1)\n",
    "end_day = monthrange(per.year, per.month)[1]\n",
    "print(date(per.year,per.month,end_day))\n",
    "while True:\n",
    "    if per.strftime('%Y-%m') > (df.date[df.index[0]].strftime('%Y-%m')):\n",
    "        break\n",
    "    A = per.month\n",
    "    end_day = monthrange(per.year, per.month)[1]\n",
    "    df_slice = df[(date(per.year,A,1).isoformat()<=df.date)&(df.date<=date(per.year,A,end_day).isoformat())]\n",
    "    mean = statistics.mean(df_slice.score)\n",
    "    per += month \n",
    "    #print((per-month).strftime('%Y-%m') ,mean)\n",
    "    mean_df_day.append((per-month).strftime('%Y-%m'))\n",
    "    mean_df_mean.append(mean)\n",
    "mean_df = pd.DataFrame(mean_df_mean, mean_df_day)\n",
    "mean_df.columns = [\"mean\"]\n",
    "mean_df"
   ]
  },
  {
   "cell_type": "code",
   "execution_count": 5,
   "id": "16d45c2f",
   "metadata": {},
   "outputs": [],
   "source": [
    "all_m = statistics.mean(df.score)"
   ]
  },
  {
   "cell_type": "code",
   "execution_count": 6,
   "id": "17c7417f",
   "metadata": {},
   "outputs": [],
   "source": [
    "mean_all =  mean_df\n",
    "mean_all['y'] = all_m"
   ]
  },
  {
   "cell_type": "code",
   "execution_count": 7,
   "id": "5d1a4fe3",
   "metadata": {
    "scrolled": true
   },
   "outputs": [],
   "source": [
    "mean_all = mean_all.drop(columns = ['mean'])"
   ]
  },
  {
   "cell_type": "code",
   "execution_count": 9,
   "id": "b3ae6d15",
   "metadata": {},
   "outputs": [
    {
     "data": {
      "image/png": "[encoded data removed]",
      "text/plain": [
       "<Figure size 432x288 with 1 Axes>"
      ]
     },
     "metadata": {
      "needs_background": "light"
     },
     "output_type": "display_data"
    }
   ],
   "source": [
    "plt.plot(mean_df)\n",
    "plt.plot(mean_all)\n",
    "plt.xticks([\"2013-01\",\"2015-01\",\"2017-01\",\"2019-01\",\"2021-01\"])\n",
    "plt.show()"
   ]
  },
  {
   "cell_type": "code",
   "execution_count": 10,
   "id": "dcc9bc80",
   "metadata": {},
   "outputs": [],
   "source": [
    "load_filename[:-5]\n",
    "now = datetime.now().strftime(\"%Y-%m-%d %Hh%Mm\")\n",
    "fileName = '{}_{}.xlsx'.format(load_filename, now)\n",
    "# mean_df.to_excel('캡스톤월평균데이터'+fileName)"
   ]
  },
  {
   "cell_type": "code",
   "execution_count": null,
   "id": "c9bd7020",
   "metadata": {},
   "outputs": [],
   "source": []
  }
 ],
 "metadata": {
  "kernelspec": {
   "display_name": "Python 3",
   "language": "python",
   "name": "python3"
  },
  "language_info": {
   "codemirror_mode": {
    "name": "ipython",
    "version": 3
   },
   "file_extension": ".py",
   "mimetype": "text/x-python",
   "name": "python",
   "nbconvert_exporter": "python",
   "pygments_lexer": "ipython3",
   "version": "3.8.8"
  }
 },
 "nbformat": 4,
 "nbformat_minor": 5
}
