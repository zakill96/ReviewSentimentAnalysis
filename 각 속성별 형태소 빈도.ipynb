{
 "cells": [
  {
   "cell_type": "code",
   "execution_count": 1,
   "id": "a9236da1",
   "metadata": {},
   "outputs": [],
   "source": [
    "import pandas as pd\n",
    "import numpy as np\n",
    "import matplotlib as mpl\n",
    "import matplotlib.pyplot as plt\n",
    "import matplotlib.font_manager as fm\n",
    "\n",
    "import seaborn as sns\n",
    "import re\n",
    "import konlpy\n",
    "from konlpy.tag import Okt\n",
    "from collections import Counter"
   ]
  },
  {
   "cell_type": "code",
   "execution_count": 2,
   "id": "a38c7f7d",
   "metadata": {},
   "outputs": [],
   "source": [
    "df_kakao = pd.read_excel('contain(kakao).xlsx')\n",
    "df_toss = pd.read_excel('contain(toss).xlsx')\n",
    "df_sh = pd.read_excel('contain(sh).xlsx')\n",
    "df_kb = pd.read_excel('contain(kb).xlsx')"
   ]
  },
  {
   "cell_type": "code",
   "execution_count": 3,
   "id": "3173e3ee",
   "metadata": {},
   "outputs": [
    {
     "data": {
      "text/plain": [
       "[['휴'],\n",
       " ['아이구'],\n",
       " ['아이쿠'],\n",
       " ['아이고'],\n",
       " ['어'],\n",
       " ['나'],\n",
       " ['우리'],\n",
       " ['저희'],\n",
       " ['따라'],\n",
       " ['의해']]"
      ]
     },
     "execution_count": 3,
     "metadata": {},
     "output_type": "execute_result"
    }
   ],
   "source": [
    "stopwords = pd.read_csv(\"https://raw.githubusercontent.com/yoonkt200/FastCampusDataset/master/korean_stopwords.txt\").values.tolist()\n",
    "stopwords[:10]"
   ]
  },
  {
   "cell_type": "code",
   "execution_count": 4,
   "id": "5548f764",
   "metadata": {},
   "outputs": [],
   "source": [
    "okt = Okt()"
   ]
  },
  {
   "cell_type": "code",
   "execution_count": 5,
   "id": "781dd9a4",
   "metadata": {},
   "outputs": [],
   "source": [
    "def apply_regular_expression(content):\n",
    "    hangul = re.compile('[^ ㄱ-ㅣ 가-힣]')\n",
    "    result = hangul.sub('', str(content)) \n",
    "    return result"
   ]
  },
  {
   "cell_type": "code",
   "execution_count": 6,
   "id": "4a047dbf",
   "metadata": {},
   "outputs": [
    {
     "name": "stderr",
     "output_type": "stream",
     "text": [
      "<ipython-input-6-ffc501848722>:6: SettingWithCopyWarning: \n",
      "A value is trying to be set on a copy of a slice from a DataFrame\n",
      "\n",
      "See the caveats in the documentation: https://pandas.pydata.org/pandas-docs/stable/user_guide/indexing.html#returning-a-view-versus-a-copy\n",
      "  df_kakao['시각적 측면'][i] = nouns\n"
     ]
    }
   ],
   "source": [
    "df_kakao.dropna(inplace = True)\n",
    "for i in df_kakao.index.tolist():\n",
    "    nouns = okt.nouns(apply_regular_expression(df_kakao['시각적 측면'][i]))\n",
    "    nouns = [x for x in nouns if x not in stopwords] \n",
    "    nouns = [x for x in nouns if len(x) > 1]\n",
    "    df_kakao['시각적 측면'][i] = nouns"
   ]
  },
  {
   "cell_type": "code",
   "execution_count": 7,
   "id": "525ce10e",
   "metadata": {},
   "outputs": [
    {
     "name": "stderr",
     "output_type": "stream",
     "text": [
      "<ipython-input-7-b9fa3c2ece04>:6: SettingWithCopyWarning: \n",
      "A value is trying to be set on a copy of a slice from a DataFrame\n",
      "\n",
      "See the caveats in the documentation: https://pandas.pydata.org/pandas-docs/stable/user_guide/indexing.html#returning-a-view-versus-a-copy\n",
      "  df_kakao['기능 및 서비스'][i] = nouns\n"
     ]
    }
   ],
   "source": [
    "df_kakao.dropna(inplace = True)\n",
    "for i in df_kakao.index.tolist():\n",
    "    nouns = okt.nouns(apply_regular_expression(df_kakao['기능 및 서비스'][i]))\n",
    "    nouns = [x for x in nouns if x not in stopwords] \n",
    "    nouns = [x for x in nouns if len(x) > 1]\n",
    "    df_kakao['기능 및 서비스'][i] = nouns"
   ]
  },
  {
   "cell_type": "code",
   "execution_count": 8,
   "id": "c8a9c282",
   "metadata": {},
   "outputs": [
    {
     "name": "stderr",
     "output_type": "stream",
     "text": [
      "<ipython-input-8-b030a2530848>:6: SettingWithCopyWarning: \n",
      "A value is trying to be set on a copy of a slice from a DataFrame\n",
      "\n",
      "See the caveats in the documentation: https://pandas.pydata.org/pandas-docs/stable/user_guide/indexing.html#returning-a-view-versus-a-copy\n",
      "  df_kakao['성능 및 안정성'][i] = nouns\n"
     ]
    }
   ],
   "source": [
    "df_kakao.dropna(inplace = True)\n",
    "for i in df_kakao.index.tolist():\n",
    "    nouns = okt.nouns(apply_regular_expression(df_kakao['성능 및 안정성'][i]))\n",
    "    nouns = [x for x in nouns if x not in stopwords] \n",
    "    nouns = [x for x in nouns if len(x) > 1]\n",
    "    df_kakao['성능 및 안정성'][i] = nouns"
   ]
  },
  {
   "cell_type": "code",
   "execution_count": 9,
   "id": "50be7e3c",
   "metadata": {},
   "outputs": [
    {
     "name": "stderr",
     "output_type": "stream",
     "text": [
      "<ipython-input-9-ff9b3363bd65>:6: SettingWithCopyWarning: \n",
      "A value is trying to be set on a copy of a slice from a DataFrame\n",
      "\n",
      "See the caveats in the documentation: https://pandas.pydata.org/pandas-docs/stable/user_guide/indexing.html#returning-a-view-versus-a-copy\n",
      "  df_kakao['개인정보 보호 및 보안'][i] = nouns\n"
     ]
    }
   ],
   "source": [
    "df_kakao.dropna(inplace = True)\n",
    "for i in df_kakao.index.tolist():\n",
    "    nouns = okt.nouns(apply_regular_expression(df_kakao['개인정보 보호 및 보안'][i]))\n",
    "    nouns = [x for x in nouns if x not in stopwords] \n",
    "    nouns = [x for x in nouns if len(x) > 1]\n",
    "    df_kakao['개인정보 보호 및 보안'][i] = nouns"
   ]
  },
  {
   "cell_type": "markdown",
   "id": "20dfc493",
   "metadata": {},
   "source": [
    "ㅡㅡㅡㅡㅡㅡㅡㅡㅡㅡㅡㅡㅡㅡㅡㅡㅡㅡㅡㅡㅡㅡㅡㅡㅡㅡㅡㅡㅡㅡㅡㅡㅡㅡㅡkakao"
   ]
  },
  {
   "cell_type": "code",
   "execution_count": null,
   "id": "4d939694",
   "metadata": {},
   "outputs": [],
   "source": []
  },
  {
   "cell_type": "code",
   "execution_count": 10,
   "id": "3d997d0f",
   "metadata": {},
   "outputs": [
    {
     "name": "stderr",
     "output_type": "stream",
     "text": [
      "<ipython-input-10-1b2149ae2a3e>:6: SettingWithCopyWarning: \n",
      "A value is trying to be set on a copy of a slice from a DataFrame\n",
      "\n",
      "See the caveats in the documentation: https://pandas.pydata.org/pandas-docs/stable/user_guide/indexing.html#returning-a-view-versus-a-copy\n",
      "  df_toss['시각적 측면'][i] = nouns\n"
     ]
    }
   ],
   "source": [
    "df_toss.dropna(inplace = True)\n",
    "for i in df_toss.index.tolist():\n",
    "    nouns = okt.nouns(apply_regular_expression(df_toss['시각적 측면'][i]))\n",
    "    nouns = [x for x in nouns if x not in stopwords] \n",
    "    nouns = [x for x in nouns if len(x) > 1]\n",
    "    df_toss['시각적 측면'][i] = nouns"
   ]
  },
  {
   "cell_type": "code",
   "execution_count": 11,
   "id": "b2a1e0a3",
   "metadata": {},
   "outputs": [
    {
     "name": "stderr",
     "output_type": "stream",
     "text": [
      "<ipython-input-11-168a58896447>:6: SettingWithCopyWarning: \n",
      "A value is trying to be set on a copy of a slice from a DataFrame\n",
      "\n",
      "See the caveats in the documentation: https://pandas.pydata.org/pandas-docs/stable/user_guide/indexing.html#returning-a-view-versus-a-copy\n",
      "  df_toss['기능 및 서비스'][i] = nouns\n"
     ]
    }
   ],
   "source": [
    "df_toss.dropna(inplace = True)\n",
    "for i in df_toss.index.tolist():\n",
    "    nouns = okt.nouns(apply_regular_expression(df_toss['기능 및 서비스'][i]))\n",
    "    nouns = [x for x in nouns if x not in stopwords] \n",
    "    nouns = [x for x in nouns if len(x) > 1]\n",
    "    df_toss['기능 및 서비스'][i] = nouns"
   ]
  },
  {
   "cell_type": "code",
   "execution_count": 12,
   "id": "a684526d",
   "metadata": {},
   "outputs": [
    {
     "name": "stderr",
     "output_type": "stream",
     "text": [
      "<ipython-input-12-f27483835dc2>:6: SettingWithCopyWarning: \n",
      "A value is trying to be set on a copy of a slice from a DataFrame\n",
      "\n",
      "See the caveats in the documentation: https://pandas.pydata.org/pandas-docs/stable/user_guide/indexing.html#returning-a-view-versus-a-copy\n",
      "  df_toss['성능 및 안정성'][i] = nouns\n"
     ]
    }
   ],
   "source": [
    "df_toss.dropna(inplace = True)\n",
    "for i in df_toss.index.tolist():\n",
    "    nouns = okt.nouns(apply_regular_expression(df_toss['성능 및 안정성'][i]))\n",
    "    nouns = [x for x in nouns if x not in stopwords] \n",
    "    nouns = [x for x in nouns if len(x) > 1]\n",
    "    df_toss['성능 및 안정성'][i] = nouns"
   ]
  },
  {
   "cell_type": "code",
   "execution_count": 13,
   "id": "c5ee30e9",
   "metadata": {},
   "outputs": [
    {
     "name": "stderr",
     "output_type": "stream",
     "text": [
      "<ipython-input-13-44a2250ec004>:6: SettingWithCopyWarning: \n",
      "A value is trying to be set on a copy of a slice from a DataFrame\n",
      "\n",
      "See the caveats in the documentation: https://pandas.pydata.org/pandas-docs/stable/user_guide/indexing.html#returning-a-view-versus-a-copy\n",
      "  df_toss['개인정보 보호 및 보안'][i] = nouns\n"
     ]
    }
   ],
   "source": [
    "df_toss.dropna(inplace = True)\n",
    "for i in df_toss.index.tolist():\n",
    "    nouns = okt.nouns(apply_regular_expression(df_toss['개인정보 보호 및 보안'][i]))\n",
    "    nouns = [x for x in nouns if x not in stopwords] \n",
    "    nouns = [x for x in nouns if len(x) > 1]\n",
    "    df_toss['개인정보 보호 및 보안'][i] = nouns"
   ]
  },
  {
   "cell_type": "markdown",
   "id": "7ac312b3",
   "metadata": {},
   "source": [
    "ㅡㅡㅡㅡㅡㅡㅡㅡㅡㅡㅡㅡㅡㅡㅡㅡㅡㅡㅡㅡㅡㅡㅡㅡㅡㅡㅡㅡㅡㅡㅡㅡㅡㅡㅡtoss"
   ]
  },
  {
   "cell_type": "code",
   "execution_count": null,
   "id": "58594d8a",
   "metadata": {},
   "outputs": [],
   "source": []
  },
  {
   "cell_type": "code",
   "execution_count": 14,
   "id": "8a68bf28",
   "metadata": {},
   "outputs": [
    {
     "name": "stderr",
     "output_type": "stream",
     "text": [
      "<ipython-input-14-143c2fe311de>:6: SettingWithCopyWarning: \n",
      "A value is trying to be set on a copy of a slice from a DataFrame\n",
      "\n",
      "See the caveats in the documentation: https://pandas.pydata.org/pandas-docs/stable/user_guide/indexing.html#returning-a-view-versus-a-copy\n",
      "  df_kb['시각적 측면'][i] = nouns\n"
     ]
    }
   ],
   "source": [
    "df_kb.dropna(inplace = True)\n",
    "for i in df_kb.index.tolist():\n",
    "    nouns = okt.nouns(apply_regular_expression(df_kb['시각적 측면'][i]))\n",
    "    nouns = [x for x in nouns if x not in stopwords] \n",
    "    nouns = [x for x in nouns if len(x) > 1]\n",
    "    df_kb['시각적 측면'][i] = nouns"
   ]
  },
  {
   "cell_type": "code",
   "execution_count": 15,
   "id": "07fef310",
   "metadata": {},
   "outputs": [
    {
     "name": "stderr",
     "output_type": "stream",
     "text": [
      "<ipython-input-15-dfc4daab9e83>:6: SettingWithCopyWarning: \n",
      "A value is trying to be set on a copy of a slice from a DataFrame\n",
      "\n",
      "See the caveats in the documentation: https://pandas.pydata.org/pandas-docs/stable/user_guide/indexing.html#returning-a-view-versus-a-copy\n",
      "  df_kb['기능 및 서비스'][i] = nouns\n"
     ]
    }
   ],
   "source": [
    "df_kb.dropna(inplace = True)\n",
    "for i in df_kb.index.tolist():\n",
    "    nouns = okt.nouns(apply_regular_expression(df_kb['기능 및 서비스'][i]))\n",
    "    nouns = [x for x in nouns if x not in stopwords] \n",
    "    nouns = [x for x in nouns if len(x) > 1]\n",
    "    df_kb['기능 및 서비스'][i] = nouns"
   ]
  },
  {
   "cell_type": "code",
   "execution_count": 16,
   "id": "072c4049",
   "metadata": {},
   "outputs": [
    {
     "name": "stderr",
     "output_type": "stream",
     "text": [
      "<ipython-input-16-f7abd95d9e1f>:6: SettingWithCopyWarning: \n",
      "A value is trying to be set on a copy of a slice from a DataFrame\n",
      "\n",
      "See the caveats in the documentation: https://pandas.pydata.org/pandas-docs/stable/user_guide/indexing.html#returning-a-view-versus-a-copy\n",
      "  df_kb['성능 및 안정성'][i] = nouns\n"
     ]
    }
   ],
   "source": [
    "df_kb.dropna(inplace = True)\n",
    "for i in df_kb.index.tolist():\n",
    "    nouns = okt.nouns(apply_regular_expression(df_kb['성능 및 안정성'][i]))\n",
    "    nouns = [x for x in nouns if x not in stopwords] \n",
    "    nouns = [x for x in nouns if len(x) > 1]\n",
    "    df_kb['성능 및 안정성'][i] = nouns"
   ]
  },
  {
   "cell_type": "code",
   "execution_count": 17,
   "id": "f38f2b72",
   "metadata": {},
   "outputs": [
    {
     "name": "stderr",
     "output_type": "stream",
     "text": [
      "<ipython-input-17-41129cd9e111>:6: SettingWithCopyWarning: \n",
      "A value is trying to be set on a copy of a slice from a DataFrame\n",
      "\n",
      "See the caveats in the documentation: https://pandas.pydata.org/pandas-docs/stable/user_guide/indexing.html#returning-a-view-versus-a-copy\n",
      "  df_kb['개인정보 보호 및 보안'][i] = nouns\n"
     ]
    }
   ],
   "source": [
    "df_kb.dropna(inplace = True)\n",
    "for i in df_kb.index.tolist():\n",
    "    nouns = okt.nouns(apply_regular_expression(df_kb['개인정보 보호 및 보안'][i]))\n",
    "    nouns = [x for x in nouns if x not in stopwords] \n",
    "    nouns = [x for x in nouns if len(x) > 1]\n",
    "    df_kb['개인정보 보호 및 보안'][i] = nouns"
   ]
  },
  {
   "cell_type": "code",
   "execution_count": null,
   "id": "cfe7055a",
   "metadata": {},
   "outputs": [],
   "source": []
  },
  {
   "cell_type": "markdown",
   "id": "975030d7",
   "metadata": {},
   "source": [
    "ㅡㅡㅡㅡㅡㅡㅡㅡㅡㅡㅡㅡㅡㅡㅡㅡㅡㅡㅡㅡㅡㅡㅡㅡㅡㅡㅡㅡㅡㅡㅡㅡㅡㅡㅡkb"
   ]
  },
  {
   "cell_type": "code",
   "execution_count": null,
   "id": "c03eeb0a",
   "metadata": {},
   "outputs": [],
   "source": []
  },
  {
   "cell_type": "code",
   "execution_count": 18,
   "id": "f31e5f10",
   "metadata": {},
   "outputs": [
    {
     "name": "stderr",
     "output_type": "stream",
     "text": [
      "<ipython-input-18-529e19a9c7d4>:6: SettingWithCopyWarning: \n",
      "A value is trying to be set on a copy of a slice from a DataFrame\n",
      "\n",
      "See the caveats in the documentation: https://pandas.pydata.org/pandas-docs/stable/user_guide/indexing.html#returning-a-view-versus-a-copy\n",
      "  df_sh['시각적 측면'][i] = nouns\n"
     ]
    }
   ],
   "source": [
    "df_sh.dropna(inplace = True)\n",
    "for i in df_sh.index.tolist():\n",
    "    nouns = okt.nouns(apply_regular_expression(df_sh['시각적 측면'][i]))\n",
    "    nouns = [x for x in nouns if x not in stopwords] \n",
    "    nouns = [x for x in nouns if len(x) > 1]\n",
    "    df_sh['시각적 측면'][i] = nouns"
   ]
  },
  {
   "cell_type": "code",
   "execution_count": 19,
   "id": "85b9f793",
   "metadata": {},
   "outputs": [
    {
     "name": "stderr",
     "output_type": "stream",
     "text": [
      "<ipython-input-19-08737e6e3249>:6: SettingWithCopyWarning: \n",
      "A value is trying to be set on a copy of a slice from a DataFrame\n",
      "\n",
      "See the caveats in the documentation: https://pandas.pydata.org/pandas-docs/stable/user_guide/indexing.html#returning-a-view-versus-a-copy\n",
      "  df_sh['기능 및 서비스'][i] = nouns\n"
     ]
    }
   ],
   "source": [
    "df_sh.dropna(inplace = True)\n",
    "for i in df_sh.index.tolist():\n",
    "    nouns = okt.nouns(apply_regular_expression(df_sh['기능 및 서비스'][i]))\n",
    "    nouns = [x for x in nouns if x not in stopwords] \n",
    "    nouns = [x for x in nouns if len(x) > 1]\n",
    "    df_sh['기능 및 서비스'][i] = nouns"
   ]
  },
  {
   "cell_type": "code",
   "execution_count": 20,
   "id": "19e15c5e",
   "metadata": {},
   "outputs": [
    {
     "name": "stderr",
     "output_type": "stream",
     "text": [
      "<ipython-input-20-42347b2d9a2a>:6: SettingWithCopyWarning: \n",
      "A value is trying to be set on a copy of a slice from a DataFrame\n",
      "\n",
      "See the caveats in the documentation: https://pandas.pydata.org/pandas-docs/stable/user_guide/indexing.html#returning-a-view-versus-a-copy\n",
      "  df_sh['성능 및 안정성'][i] = nouns\n"
     ]
    }
   ],
   "source": [
    "df_sh.dropna(inplace = True)\n",
    "for i in df_sh.index.tolist():\n",
    "    nouns = okt.nouns(apply_regular_expression(df_sh['성능 및 안정성'][i]))\n",
    "    nouns = [x for x in nouns if x not in stopwords] \n",
    "    nouns = [x for x in nouns if len(x) > 1]\n",
    "    df_sh['성능 및 안정성'][i] = nouns"
   ]
  },
  {
   "cell_type": "code",
   "execution_count": 21,
   "id": "932c4de7",
   "metadata": {},
   "outputs": [
    {
     "name": "stderr",
     "output_type": "stream",
     "text": [
      "<ipython-input-21-648463d70d35>:6: SettingWithCopyWarning: \n",
      "A value is trying to be set on a copy of a slice from a DataFrame\n",
      "\n",
      "See the caveats in the documentation: https://pandas.pydata.org/pandas-docs/stable/user_guide/indexing.html#returning-a-view-versus-a-copy\n",
      "  df_sh['개인정보 보호 및 보안'][i] = nouns\n"
     ]
    }
   ],
   "source": [
    "df_sh.dropna(inplace = True)\n",
    "for i in df_sh.index.tolist():\n",
    "    nouns = okt.nouns(apply_regular_expression(df_sh['개인정보 보호 및 보안'][i]))\n",
    "    nouns = [x for x in nouns if x not in stopwords] \n",
    "    nouns = [x for x in nouns if len(x) > 1]\n",
    "    df_sh['개인정보 보호 및 보안'][i] = nouns"
   ]
  },
  {
   "cell_type": "markdown",
   "id": "595081b8",
   "metadata": {},
   "source": [
    "ㅡㅡㅡㅡㅡㅡㅡㅡㅡㅡㅡㅡㅡㅡㅡㅡㅡㅡㅡㅡㅡㅡㅡㅡㅡㅡㅡㅡㅡㅡㅡㅡㅡㅡㅡsh"
   ]
  },
  {
   "cell_type": "code",
   "execution_count": 22,
   "id": "6660035c",
   "metadata": {
    "scrolled": true
   },
   "outputs": [
    {
     "data": {
      "text/plain": [
       "[('화면', 240),\n",
       " ('계좌', 100),\n",
       " ('사용', 59),\n",
       " ('카카오', 58),\n",
       " ('보기', 55),\n",
       " ('뱅크', 44),\n",
       " ('다시', 43),\n",
       " ('인증', 43),\n",
       " ('실행', 42),\n",
       " ('은행', 41)]"
      ]
     },
     "execution_count": 22,
     "metadata": {},
     "output_type": "execute_result"
    }
   ],
   "source": [
    "corpus = \"\".join(map(str,(df_kakao['시각적 측면'].tolist())))\n",
    "nouns = okt.nouns(apply_regular_expression(corpus))\n",
    "counter = Counter(nouns)\n",
    "counter.most_common(10)"
   ]
  },
  {
   "cell_type": "code",
   "execution_count": 23,
   "id": "72a840e4",
   "metadata": {},
   "outputs": [
    {
     "data": {
      "text/plain": [
       "[('계좌', 1447),\n",
       " ('인증', 938),\n",
       " ('카카오', 734),\n",
       " ('신분증', 726),\n",
       " ('사용', 688),\n",
       " ('이체', 676),\n",
       " ('은행', 671),\n",
       " ('뱅크', 570),\n",
       " ('카드', 553),\n",
       " ('수수료', 513)]"
      ]
     },
     "execution_count": 23,
     "metadata": {},
     "output_type": "execute_result"
    }
   ],
   "source": [
    "corpus = \"\".join(map(str,(df_kakao['기능 및 서비스'].tolist())))\n",
    "nouns = okt.nouns(apply_regular_expression(corpus))\n",
    "counter = Counter(nouns)\n",
    "counter.most_common(10)"
   ]
  },
  {
   "cell_type": "code",
   "execution_count": 24,
   "id": "c7e00221",
   "metadata": {},
   "outputs": [
    {
     "data": {
      "text/plain": [
       "[('인증', 938),\n",
       " ('계좌', 637),\n",
       " ('업데이트', 522),\n",
       " ('계속', 443),\n",
       " ('신분증', 437),\n",
       " ('카카오', 433),\n",
       " ('사용', 410),\n",
       " ('설치', 395),\n",
       " ('다시', 377),\n",
       " ('오류', 360)]"
      ]
     },
     "execution_count": 24,
     "metadata": {},
     "output_type": "execute_result"
    }
   ],
   "source": [
    "corpus = \"\".join(map(str,(df_kakao['성능 및 안정성'].tolist())))\n",
    "nouns = okt.nouns(apply_regular_expression(corpus))\n",
    "counter = Counter(nouns)\n",
    "counter.most_common(10)"
   ]
  },
  {
   "cell_type": "code",
   "execution_count": 25,
   "id": "4d91d081",
   "metadata": {},
   "outputs": [
    {
     "data": {
      "text/plain": [
       "[('인증', 938),\n",
       " ('신분증', 727),\n",
       " ('계좌', 681),\n",
       " ('번호', 427),\n",
       " ('계속', 341),\n",
       " ('다시', 340),\n",
       " ('카카오', 335),\n",
       " ('인식', 328),\n",
       " ('사용', 323),\n",
       " ('삭제', 302)]"
      ]
     },
     "execution_count": 25,
     "metadata": {},
     "output_type": "execute_result"
    }
   ],
   "source": [
    "corpus = \"\".join(map(str,(df_kakao['개인정보 보호 및 보안'].tolist())))\n",
    "nouns = okt.nouns(apply_regular_expression(corpus))\n",
    "counter = Counter(nouns)\n",
    "counter.most_common(10)"
   ]
  },
  {
   "cell_type": "markdown",
   "id": "fe72dc3d",
   "metadata": {},
   "source": [
    "ㅡㅡㅡㅡㅡㅡㅡㅡㅡㅡㅡㅡㅡㅡㅡㅡㅡㅡㅡㅡㅡㅡㅡㅡㅡㅡㅡㅡㅡㅡㅡㅡㅡㅡㅡkakao"
   ]
  },
  {
   "cell_type": "code",
   "execution_count": 26,
   "id": "4afab103",
   "metadata": {
    "scrolled": true
   },
   "outputs": [
    {
     "data": {
      "text/plain": [
       "[('보기', 339),\n",
       " ('토스', 229),\n",
       " ('한눈', 117),\n",
       " ('계좌', 105),\n",
       " ('화면', 101),\n",
       " ('사용', 90),\n",
       " ('기능', 88),\n",
       " ('업데이트', 70),\n",
       " ('주식', 47),\n",
       " ('메뉴', 47)]"
      ]
     },
     "execution_count": 26,
     "metadata": {},
     "output_type": "execute_result"
    }
   ],
   "source": [
    "corpus = \"\".join(map(str,(df_toss['시각적 측면'].tolist())))\n",
    "nouns = okt.nouns(apply_regular_expression(corpus))\n",
    "counter = Counter(nouns)\n",
    "counter.most_common(10)"
   ]
  },
  {
   "cell_type": "code",
   "execution_count": 27,
   "id": "8f9ba5c2",
   "metadata": {},
   "outputs": [
    {
     "data": {
      "text/plain": [
       "[('계좌', 1226),\n",
       " ('토스', 1172),\n",
       " ('업데이트', 631),\n",
       " ('사용', 538),\n",
       " ('잔액', 447),\n",
       " ('카드', 444),\n",
       " ('인증', 401),\n",
       " ('연결', 399),\n",
       " ('기능', 394),\n",
       " ('확인', 391)]"
      ]
     },
     "execution_count": 27,
     "metadata": {},
     "output_type": "execute_result"
    }
   ],
   "source": [
    "corpus = \"\".join(map(str,(df_toss['기능 및 서비스'].tolist())))\n",
    "nouns = okt.nouns(apply_regular_expression(corpus))\n",
    "counter = Counter(nouns)\n",
    "counter.most_common(10)"
   ]
  },
  {
   "cell_type": "code",
   "execution_count": 28,
   "id": "5b7e64f1",
   "metadata": {},
   "outputs": [
    {
     "data": {
      "text/plain": [
       "[('업데이트', 1121),\n",
       " ('계좌', 786),\n",
       " ('토스', 758),\n",
       " ('연결', 458),\n",
       " ('인증', 401),\n",
       " ('사용', 341),\n",
       " ('다시', 314),\n",
       " ('계속', 302),\n",
       " ('잔액', 251),\n",
       " ('은행', 223)]"
      ]
     },
     "execution_count": 28,
     "metadata": {},
     "output_type": "execute_result"
    }
   ],
   "source": [
    "corpus = \"\".join(map(str,(df_toss['성능 및 안정성'].tolist())))\n",
    "nouns = okt.nouns(apply_regular_expression(corpus))\n",
    "counter = Counter(nouns)\n",
    "counter.most_common(10)"
   ]
  },
  {
   "cell_type": "code",
   "execution_count": 29,
   "id": "699c7b00",
   "metadata": {},
   "outputs": [
    {
     "data": {
      "text/plain": [
       "[('토스', 458),\n",
       " ('계좌', 449),\n",
       " ('인증', 401),\n",
       " ('정보', 303),\n",
       " ('사용', 243),\n",
       " ('인증서', 214),\n",
       " ('업데이트', 182),\n",
       " ('다시', 180),\n",
       " ('관리', 171),\n",
       " ('등록', 156)]"
      ]
     },
     "execution_count": 29,
     "metadata": {},
     "output_type": "execute_result"
    }
   ],
   "source": [
    "corpus = \"\".join(map(str,(df_toss['개인정보 보호 및 보안'].tolist())))\n",
    "nouns = okt.nouns(apply_regular_expression(corpus))\n",
    "counter = Counter(nouns)\n",
    "counter.most_common(10)"
   ]
  },
  {
   "cell_type": "markdown",
   "id": "30c916e8",
   "metadata": {},
   "source": [
    "ㅡㅡㅡㅡㅡㅡㅡㅡㅡㅡㅡㅡㅡㅡㅡㅡㅡㅡㅡㅡㅡㅡㅡㅡㅡㅡㅡㅡㅡㅡㅡㅡㅡㅡㅡtoss"
   ]
  },
  {
   "cell_type": "code",
   "execution_count": null,
   "id": "f90eab5a",
   "metadata": {},
   "outputs": [],
   "source": []
  },
  {
   "cell_type": "code",
   "execution_count": 30,
   "id": "2dd61de8",
   "metadata": {
    "scrolled": true
   },
   "outputs": [
    {
     "data": {
      "text/plain": [
       "[('화면', 1024),\n",
       " ('이체', 426),\n",
       " ('메뉴', 425),\n",
       " ('계좌', 337),\n",
       " ('로그인', 324),\n",
       " ('어플', 283),\n",
       " ('은행', 281),\n",
       " ('업데이트', 273),\n",
       " ('사용', 259),\n",
       " ('다시', 233)]"
      ]
     },
     "execution_count": 30,
     "metadata": {},
     "output_type": "execute_result"
    }
   ],
   "source": [
    "corpus = \"\".join(map(str,(df_sh['시각적 측면'].tolist())))\n",
    "nouns = okt.nouns(apply_regular_expression(corpus))\n",
    "counter = Counter(nouns)\n",
    "counter.most_common(10)"
   ]
  },
  {
   "cell_type": "code",
   "execution_count": 31,
   "id": "b9e9180a",
   "metadata": {},
   "outputs": [
    {
     "data": {
      "text/plain": [
       "[('이체', 2817),\n",
       " ('은행', 2186),\n",
       " ('어플', 2036),\n",
       " ('인증', 1942),\n",
       " ('계좌', 1938),\n",
       " ('인증서', 1826),\n",
       " ('로그인', 1797),\n",
       " ('오류', 1429),\n",
       " ('계속', 1257),\n",
       " ('사용', 1208)]"
      ]
     },
     "execution_count": 31,
     "metadata": {},
     "output_type": "execute_result"
    }
   ],
   "source": [
    "corpus = \"\".join(map(str,(df_sh['기능 및 서비스'].tolist())))\n",
    "nouns = okt.nouns(apply_regular_expression(corpus))\n",
    "counter = Counter(nouns)\n",
    "counter.most_common(10)"
   ]
  },
  {
   "cell_type": "code",
   "execution_count": 32,
   "id": "6409e8c5",
   "metadata": {},
   "outputs": [
    {
     "data": {
      "text/plain": [
       "[('로그인', 2856),\n",
       " ('업데이트', 2488),\n",
       " ('어플', 2158),\n",
       " ('인증', 1942),\n",
       " ('오류', 1865),\n",
       " ('인증서', 1827),\n",
       " ('이체', 1808),\n",
       " ('은행', 1786),\n",
       " ('계속', 1732),\n",
       " ('다시', 1600)]"
      ]
     },
     "execution_count": 32,
     "metadata": {},
     "output_type": "execute_result"
    }
   ],
   "source": [
    "corpus = \"\".join(map(str,(df_sh['성능 및 안정성'].tolist())))\n",
    "nouns = okt.nouns(apply_regular_expression(corpus))\n",
    "counter = Counter(nouns)\n",
    "counter.most_common(10)"
   ]
  },
  {
   "cell_type": "code",
   "execution_count": 33,
   "id": "007bd05f",
   "metadata": {},
   "outputs": [
    {
     "data": {
      "text/plain": [
       "[('인증', 1943),\n",
       " ('인증서', 1825),\n",
       " ('로그인', 1563),\n",
       " ('어플', 1201),\n",
       " ('등록', 1124),\n",
       " ('은행', 1055),\n",
       " ('공인', 1050),\n",
       " ('다시', 1049),\n",
       " ('계좌', 1012),\n",
       " ('이체', 1010)]"
      ]
     },
     "execution_count": 33,
     "metadata": {},
     "output_type": "execute_result"
    }
   ],
   "source": [
    "corpus = \"\".join(map(str,(df_sh['개인정보 보호 및 보안'].tolist())))\n",
    "nouns = okt.nouns(apply_regular_expression(corpus))\n",
    "counter = Counter(nouns)\n",
    "counter.most_common(10)"
   ]
  },
  {
   "cell_type": "markdown",
   "id": "995b35a2",
   "metadata": {},
   "source": [
    "ㅡㅡㅡㅡㅡㅡㅡㅡㅡㅡㅡㅡㅡㅡㅡㅡㅡㅡㅡㅡㅡㅡㅡㅡㅡㅡㅡㅡㅡㅡㅡㅡㅡㅡㅡsh"
   ]
  },
  {
   "cell_type": "code",
   "execution_count": null,
   "id": "56e9b2aa",
   "metadata": {},
   "outputs": [],
   "source": []
  },
  {
   "cell_type": "code",
   "execution_count": 34,
   "id": "f54ffc92",
   "metadata": {
    "scrolled": true
   },
   "outputs": [
    {
     "data": {
      "text/plain": [
       "[('화면', 494),\n",
       " ('로그인', 218),\n",
       " ('이체', 180),\n",
       " ('업데이트', 144),\n",
       " ('인증서', 141),\n",
       " ('어플', 139),\n",
       " ('계좌', 129),\n",
       " ('은행', 114),\n",
       " ('오류', 103),\n",
       " ('사용', 100)]"
      ]
     },
     "execution_count": 34,
     "metadata": {},
     "output_type": "execute_result"
    }
   ],
   "source": [
    "corpus = \"\".join(map(str,(df_kb['시각적 측면'].tolist())))\n",
    "nouns = okt.nouns(apply_regular_expression(corpus))\n",
    "counter = Counter(nouns)\n",
    "counter.most_common(10)"
   ]
  },
  {
   "cell_type": "code",
   "execution_count": 35,
   "id": "e8dd109f",
   "metadata": {},
   "outputs": [
    {
     "data": {
      "text/plain": [
       "[('인증서', 995),\n",
       " ('은행', 846),\n",
       " ('로그인', 755),\n",
       " ('이체', 741),\n",
       " ('어플', 702),\n",
       " ('인증', 638),\n",
       " ('오류', 611),\n",
       " ('계좌', 542),\n",
       " ('다시', 455),\n",
       " ('업데이트', 432)]"
      ]
     },
     "execution_count": 35,
     "metadata": {},
     "output_type": "execute_result"
    }
   ],
   "source": [
    "corpus = \"\".join(map(str,(df_kb['기능 및 서비스'].tolist())))\n",
    "nouns = okt.nouns(apply_regular_expression(corpus))\n",
    "counter = Counter(nouns)\n",
    "counter.most_common(10)"
   ]
  },
  {
   "cell_type": "code",
   "execution_count": 36,
   "id": "dc84d472",
   "metadata": {},
   "outputs": [
    {
     "data": {
      "text/plain": [
       "[('로그인', 1248),\n",
       " ('인증서', 995),\n",
       " ('은행', 793),\n",
       " ('어플', 762),\n",
       " ('업데이트', 699),\n",
       " ('오류', 670),\n",
       " ('인증', 638),\n",
       " ('이체', 546),\n",
       " ('다시', 539),\n",
       " ('계속', 512)]"
      ]
     },
     "execution_count": 36,
     "metadata": {},
     "output_type": "execute_result"
    }
   ],
   "source": [
    "corpus = \"\".join(map(str,(df_kb['성능 및 안정성'].tolist())))\n",
    "nouns = okt.nouns(apply_regular_expression(corpus))\n",
    "counter = Counter(nouns)\n",
    "counter.most_common(10)"
   ]
  },
  {
   "cell_type": "code",
   "execution_count": 37,
   "id": "f31b94c8",
   "metadata": {},
   "outputs": [
    {
     "data": {
      "text/plain": [
       "[('인증서', 993),\n",
       " ('인증', 638),\n",
       " ('로그인', 634),\n",
       " ('은행', 496),\n",
       " ('어플', 479),\n",
       " ('오류', 448),\n",
       " ('다시', 401),\n",
       " ('모바일', 363),\n",
       " ('등록', 338),\n",
       " ('계좌', 329)]"
      ]
     },
     "execution_count": 37,
     "metadata": {},
     "output_type": "execute_result"
    }
   ],
   "source": [
    "corpus = \"\".join(map(str,(df_kb['개인정보 보호 및 보안'].tolist())))\n",
    "nouns = okt.nouns(apply_regular_expression(corpus))\n",
    "counter = Counter(nouns)\n",
    "counter.most_common(10)"
   ]
  },
  {
   "cell_type": "markdown",
   "id": "e8726e13",
   "metadata": {},
   "source": [
    "ㅡㅡㅡㅡㅡㅡㅡㅡㅡㅡㅡㅡㅡㅡㅡㅡㅡㅡㅡㅡㅡㅡㅡㅡㅡㅡㅡㅡㅡㅡㅡㅡㅡㅡㅡkb"
   ]
  },
  {
   "cell_type": "code",
   "execution_count": null,
   "id": "bd9c86da",
   "metadata": {},
   "outputs": [],
   "source": []
  }
 ],
 "metadata": {
  "kernelspec": {
   "display_name": "Python 3",
   "language": "python",
   "name": "python3"
  },
  "language_info": {
   "codemirror_mode": {
    "name": "ipython",
    "version": 3
   },
   "file_extension": ".py",
   "mimetype": "text/x-python",
   "name": "python",
   "nbconvert_exporter": "python",
   "pygments_lexer": "ipython3",
   "version": "3.8.8"
  }
 },
 "nbformat": 4,
 "nbformat_minor": 5
}
